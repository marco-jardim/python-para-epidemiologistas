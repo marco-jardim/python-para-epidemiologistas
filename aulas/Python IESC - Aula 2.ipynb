{
  "cells": [
    {
      "cell_type": "markdown",
      "id": "bcda8664",
      "metadata": {
        "id": "bcda8664"
      },
      "source": [
        "[![Open In Colab](https://colab.research.google.com/assets/colab-badge.svg)](https://colab.research.google.com/)\n",
        "\n",
        "# Aula 2 — Introdução ao `pandas` para Epidemiologia\n",
        "\n",
        "> **Curso:** Python para Epidemiologistas — Aula 2  \n",
        "> **Foco:** criação/inspeção de DataFrames, seleção e filtros (`query`/máscaras), criação de colunas (`assign`) e resumo com `groupby().agg()`; mini‑EDA (Exploratory Data Analysis) com dados sintéticos + **exemplo** de leitura de dados do **OpenDataSUS (SIVEP‑Gripe)**.\n",
        "\n",
        "## Objetivos de aprendizagem\n",
        "- Criar e inspecionar `DataFrame`s (`shape`, `info`, `describe`, `value_counts`).\n",
        "- Selecionar colunas, filtrar linhas com **máscaras booleanas** e com `DataFrame.query`.\n",
        "- Criar/transformar variáveis com `assign` e resumir com `groupby().agg`.\n",
        "- Realizar mini‑exploração de um *line list* epidemiológico (frequências por **região** e **idade**).\n",
        "- Carregar dados **remotos** do **OpenDataSUS (SIVEP‑Gripe)** *com fallback* para dados sintéticos.\n",
        "\n",
        "## Pré‑requisitos\n",
        "- Aula 1 (Fundamentos): tipos, estruturas, condicionais/loops, funções, list comprehensions.\n",
        "\n",
        "## Como usar no Colab\n",
        "1. Abra no Colab e rode **Runtime → Run all** para executar tudo do zero.\n",
        "2. Salve sua cópia: **File → Save a copy in Drive**.\n",
        "3. Para reiniciar: **Runtime → Restart runtime**.\n"
      ]
    },
    {
      "cell_type": "code",
      "execution_count": null,
      "id": "4248434c",
      "metadata": {
        "collapsed": true,
        "id": "4248434c"
      },
      "outputs": [],
      "source": [
        "#@title Instalar/Carregar dependências\n",
        "# Usaremos bibliotecas já disponíveis no Colab.\n",
        "import pandas as pd\n",
        "import numpy as np\n",
        "import matplotlib.pyplot as plt\n",
        "import io, requests\n",
        "\n",
        "pd.set_option('display.max_columns', 50)\n",
        "pd.set_option('display.width', 120)\n",
        "\n",
        "# Semente para reprodutibilidade\n",
        "rng = np.random.default_rng(42)\n",
        "print(\"Ambiente carregado.\")"
      ]
    },
    {
      "cell_type": "markdown",
      "id": "da26947f",
      "metadata": {
        "id": "da26947f"
      },
      "source": [
        "## 1) Dados: sintético + exemplo OpenDataSUS (fallback robusto)\n",
        "\n",
        "Trabalharemos com um **line list** sintético e tentaremos, como **exemplo**, ler uma amostra do **OpenDataSUS (SIVEP‑Gripe)**.\n",
        "Se a leitura remota falhar (rede/permits), seguimos apenas com o **sintético**.\n",
        "\n",
        "### Dicionário de variáveis (sintético)\n",
        "- `id`: identificador do caso.\n",
        "- `age`: idade em anos.\n",
        "- `sex`: `'F'`/`'M'`.\n",
        "- `region`: macrorregião (`Norte`, `Nordeste`, `Sudeste`, `Sul`, `Centro-Oeste`).\n",
        "- `onset_date`: data de início dos sintomas.\n",
        "- `report_date`: data de notificação.\n",
        "- `hospitalized`: `'internado'`/`'nao_internado'`.\n",
        "\n",
        "> No **SIVEP‑Gripe**, nomes de colunas podem diferir (ex.: `CS_SEXO`, `NU_IDADE_N`). A função abaixo tenta **normalizar** para `sex`, `age`, `onset_date`, `report_date`, `region`, `hospitalized`.\n"
      ]
    },
    {
      "cell_type": "code",
      "execution_count": null,
      "id": "26925563",
      "metadata": {
        "id": "26925563"
      },
      "outputs": [],
      "source": [
        "# Funções utilitárias\n",
        "from datetime import datetime\n",
        "\n",
        "def generate_synthetic_line_list(n=1200, seed=42):\n",
        "    rng = np.random.default_rng(seed)\n",
        "    ids = np.arange(1, n+1)\n",
        "    ages = rng.integers(0, 90, size=n)\n",
        "    sex = rng.choice(['F', 'M'], size=n, p=[0.53, 0.47])\n",
        "    regions = rng.choice(['Norte', 'Nordeste', 'Sudeste', 'Sul', 'Centro-Oeste'], size=n, p=[0.08,0.28,0.43,0.14,0.07])\n",
        "    start = np.datetime64('2023-01-01')\n",
        "    onset = start + rng.integers(0, 300, size=n).astype('timedelta64[D]')\n",
        "    report_delay = rng.integers(0, 10, size=n).astype('timedelta64[D]')\n",
        "    report = onset + report_delay\n",
        "    hosp = rng.choice(['internado', 'nao_internado'], size=n, p=[0.18, 0.82])\n",
        "    return pd.DataFrame({\n",
        "        'id': ids,\n",
        "        'age': ages,\n",
        "        'sex': sex,\n",
        "        'region': regions,\n",
        "        'onset_date': pd.to_datetime(onset),\n",
        "        'report_date': pd.to_datetime(report),\n",
        "        'hospitalized': hosp\n",
        "    })\n",
        "\n",
        "def try_load_opendatasus_srag(sample_n=20000):\n",
        "    \"\"\"Tenta ler amostra do SIVEP‑Gripe (OpenDataSUS).\n",
        "    Usa requests com cabeçalho User-Agent para reduzir 403.\n",
        "    Retorna DataFrame normalizado OU None em falha.\n",
        "    \"\"\"\n",
        "    url = 'https://s3.sa-east-1.amazonaws.com/ckan.saude.gov.br/SRAG/2023/INFLUD23-26-06-2025.csv'\n",
        "    try:\n",
        "        resp = requests.get(url, headers={'User-Agent': 'Mozilla/5.0'}, timeout=60)\n",
        "        resp.raise_for_status()\n",
        "        # print(resp.content)\n",
        "        df_raw = pd.read_csv(io.BytesIO(resp.content), sep=';', encoding='latin1', nrows=sample_n, low_memory=False)\n",
        "\n",
        "        if df_raw is None or df_raw.empty:\n",
        "            print('Falha ao carregar OpenDataSUS: df_raw is None or empty')\n",
        "            return None\n",
        "\n",
        "        colmap = {}\n",
        "\n",
        "        for c in ['CS_SEXO','SEXO']:\n",
        "            if c in df_raw.columns: colmap[c] = 'sex'\n",
        "        for c in ['NU_IDADE_N','NU_IDADE']:\n",
        "            if c in df_raw.columns: colmap[c] = 'age'\n",
        "        for c in ['DT_SIN_PRI','DT_SINTOMA']:\n",
        "            if c in df_raw.columns: colmap[c] = 'onset_date'\n",
        "        for c in ['DT_NOTIFIC','DT_NOTIF']:\n",
        "            if c in df_raw.columns: colmap[c] = 'report_date'\n",
        "        for c in ['SG_UF_NOTA','SG_UF']:\n",
        "            if c in df_raw.columns: colmap[c] = 'uf'\n",
        "\n",
        "        df = df_raw.rename(columns=colmap).copy()\n",
        "        print('Colunas mapeadas:', list(colmap.values()))\n",
        "\n",
        "        if 'uf' in df.columns:\n",
        "            uf_to_region = {\n",
        "                'AC':'Norte','AP':'Norte','AM':'Norte','PA':'Norte','RO':'Norte','RR':'Norte','TO':'Norte',\n",
        "                'AL':'Nordeste','BA':'Nordeste','CE':'Nordeste','MA':'Nordeste','PB':'Nordeste','PE':'Nordeste','PI':'Nordeste','RN':'Nordeste','SE':'Nordeste',\n",
        "                'ES':'Sudeste','MG':'Sudeste','RJ':'Sudeste','SP':'Sudeste',\n",
        "                'PR':'Sul','RS':'Sul','SC':'Sul',\n",
        "                'DF':'Centro-Oeste','GO':'Centro-Oeste','MT':'Centro-Oeste','MS':'Centro-Oeste'\n",
        "            }\n",
        "            df['region'] = df['uf'].map(uf_to_region)\n",
        "\n",
        "        if 'age' in df.columns:\n",
        "            df['age'] = pd.to_numeric(df['age'], errors='coerce')\n",
        "            print('Idade convertida para numérico.')\n",
        "        if 'sex' in df.columns:\n",
        "            df['sex'] = df['sex'].astype(str).str.upper().str[0].replace({'F':'F','M':'M'})\n",
        "            print('Sexo convertido para str e mapeado para F/M.')\n",
        "        for dcol in ['onset_date','report_date']:\n",
        "            if dcol in df.columns:\n",
        "                df[dcol] = pd.to_datetime(df[dcol], errors='coerce', dayfirst=True)\n",
        "                print(f'Data convertida para datetime: {dcol}')\n",
        "\n",
        "        hosp_cols = [c for c in df_raw.columns if ('HOSP' in c.upper()) or ('UTI' in c.upper())]\n",
        "        if hosp_cols:\n",
        "            df['hospitalized'] = np.where(df_raw[hosp_cols].notna().any(axis=1), 'internado', 'nao_internado')\n",
        "        else:\n",
        "            df['hospitalized'] = 'nao_internado'\n",
        "\n",
        "        keep = [c for c in ['age','sex','region','onset_date','report_date','hospitalized'] if c in df.columns]\n",
        "        if not keep:\n",
        "            return None\n",
        "        return df[keep].dropna(how='all')\n",
        "    except Exception as e:\n",
        "        print('Falha ao carregar OpenDataSUS:', e)\n",
        "        return None\n",
        "\n",
        "# Carregamento principal com fallback\n",
        "df_remote = try_load_opendatasus_srag(sample_n=20000)\n",
        "if df_remote is None or df_remote.empty:\n",
        "    print('Usando dados SINTÉTICOS (fallback).')\n",
        "    df = generate_synthetic_line_list(n=1200, seed=42)\n",
        "else:\n",
        "    print('Dados do OpenDataSUS (amostra) carregados.')\n",
        "    df = df_remote.copy()\n",
        "\n",
        "df.head()"
      ]
    },
    {
      "cell_type": "markdown",
      "id": "37844eb1",
      "metadata": {
        "id": "37844eb1"
      },
      "source": [
        "## 2) Criação e **inspeção** de DataFrames\n",
        "\n",
        "Operações úteis: `df.shape`, `df.dtypes`, `df.info()`, `df.head()`, `df.describe()`, `value_counts()`.\n"
      ]
    },
    {
      "cell_type": "code",
      "execution_count": null,
      "id": "dcab2d73",
      "metadata": {
        "id": "dcab2d73"
      },
      "outputs": [],
      "source": [
        "# Inspeção rápida\n",
        "print('shape:', df.shape)\n",
        "display(df.dtypes)\n",
        "df.info()\n",
        "display(df.describe(include='all').T.head(10))\n",
        "\n",
        "if 'sex' in df.columns:\n",
        "    display(df['sex'].value_counts())"
      ]
    },
    {
      "cell_type": "markdown",
      "id": "3bd5183b",
      "metadata": {
        "id": "3bd5183b"
      },
      "source": [
        "**Exercício de fixação (Seção 2)**  \n",
        "Calcule o **número** e a **proporção** de valores ausentes por coluna em `df`."
      ]
    },
    {
      "cell_type": "code",
      "execution_count": null,
      "id": "02aaa8ca",
      "metadata": {
        "id": "02aaa8ca"
      },
      "outputs": [],
      "source": [
        "# Sua resposta aqui\n"
      ]
    },
    {
      "cell_type": "markdown",
      "id": "692cd640",
      "metadata": {
        "id": "692cd640"
      },
      "source": [
        "<details><summary><strong>Solução</strong></summary>\n",
        "\n",
        "```python\n",
        "na_count = df.isna().sum()\n",
        "na_prop  = df.isna().mean()\n",
        "display(na_count)\n",
        "display(na_prop)\n",
        "```\n",
        "</details>\n"
      ]
    },
    {
      "cell_type": "markdown",
      "id": "2b36591c",
      "metadata": {
        "id": "2b36591c"
      },
      "source": [
        "## 3) **Seleção** de colunas e **filtragem** de linhas\n",
        "\n",
        "- Seleção por lista: `df[['col1','col2']]`  \n",
        "- Máscara booleana: `df[df['age'] >= 60]`  \n",
        "- `query`: `df.query('age >= 60 and sex == \"F\"')`\n"
      ]
    },
    {
      "cell_type": "code",
      "execution_count": null,
      "id": "1e439734",
      "metadata": {
        "id": "1e439734"
      },
      "outputs": [],
      "source": [
        "subset_cols = [c for c in ['age','sex','region','onset_date','hospitalized'] if c in df.columns]\n",
        "df_sel = df[subset_cols].copy()\n",
        "df_sel.head()"
      ]
    },
    {
      "cell_type": "code",
      "execution_count": null,
      "id": "903d6fec",
      "metadata": {
        "id": "903d6fec"
      },
      "outputs": [],
      "source": [
        "# Exemplos\n",
        "if 'age' in df_sel.columns:\n",
        "    idosos = df_sel[df_sel['age'] >= 60]\n",
        "    print('Nº com idade >= 60:', idosos.shape[0])\n",
        "if all(c in df_sel.columns for c in ['sex','age']):\n",
        "    mulheres_20a39 = df_sel.query('sex == \"F\" and 20 <= age <= 39')\n",
        "    print('Mulheres 20–39:', mulheres_20a39.shape[0])"
      ]
    },
    {
      "cell_type": "markdown",
      "id": "f4a7c3ae",
      "metadata": {
        "id": "f4a7c3ae"
      },
      "source": [
        "**Exercício de fixação (Seção 3)**  \n",
        "Com `df_sel`, selecione `age`, `sex`, `region` e filtre **homens (`\"M\"`) com idade < 30**; mostre as 5 primeiras linhas.\n"
      ]
    },
    {
      "cell_type": "code",
      "execution_count": null,
      "id": "5cf0c6d8",
      "metadata": {
        "id": "5cf0c6d8"
      },
      "outputs": [],
      "source": [
        "# Sua resposta aqui\n"
      ]
    },
    {
      "cell_type": "markdown",
      "id": "9d3f6f92",
      "metadata": {
        "id": "9d3f6f92"
      },
      "source": [
        "<details><summary><strong>Solução</strong></summary>\n",
        "\n",
        "```python\n",
        "out = df_sel[['age','sex','region']].query('sex == \"M\" and age < 30')\n",
        "out.head()\n",
        "```\n",
        "</details>\n"
      ]
    },
    {
      "cell_type": "markdown",
      "id": "aa7705f8",
      "metadata": {
        "id": "aa7705f8"
      },
      "source": [
        "## 4) **Criação de colunas** com `assign` e **resumos** com `groupby().agg()`\n",
        "- `assign(nova = expr)`: cria/transforma colunas.  \n",
        "- `groupby(keys).agg(...)`: sumariza por grupos (contagem, média, proporção, etc.).\n"
      ]
    },
    {
      "cell_type": "code",
      "execution_count": null,
      "id": "50489d3d",
      "metadata": {
        "id": "50489d3d"
      },
      "outputs": [],
      "source": [
        "def make_age_group(s):\n",
        "    bins = [-1, 4, 11, 17, 29, 39, 49, 59, 69, 79, 200]\n",
        "    labels = ['0-4','5-11','12-17','18-29','30-39','40-49','50-59','60-69','70-79','80+']\n",
        "    return pd.cut(s, bins=bins, labels=labels)\n",
        "\n",
        "if 'age' in df.columns:\n",
        "    df_aug = df.assign(age_group = make_age_group(df['age']))\n",
        "else:\n",
        "    df_aug = df.copy()\n",
        "\n",
        "if all(c in df_aug.columns for c in ['region','age_group']):\n",
        "    resumo = (df_aug\n",
        "              .groupby(['region','age_group'], dropna=False)\n",
        "              .agg(casos=('age','size'))\n",
        "              .reset_index()\n",
        "              .sort_values(['region','age_group']))\n",
        "    display(resumo.head(12))"
      ]
    },
    {
      "cell_type": "markdown",
      "id": "a78d5e62",
      "metadata": {
        "id": "a78d5e62"
      },
      "source": [
        "**Exercício de fixação (Seção 4)**  \n",
        "Crie `is_elderly = age >= 60` e calcule, **por região**, a **proporção** de `is_elderly` e o `n` total.\n"
      ]
    },
    {
      "cell_type": "code",
      "execution_count": null,
      "id": "b9134f54",
      "metadata": {
        "id": "b9134f54"
      },
      "outputs": [],
      "source": [
        "# Sua resposta aqui\n"
      ]
    },
    {
      "cell_type": "markdown",
      "id": "507dfe1b",
      "metadata": {
        "id": "507dfe1b"
      },
      "source": [
        "<details><summary><strong>Solução</strong></summary>\n",
        "\n",
        "```python\n",
        "out = (df.assign(is_elderly = df['age'] >= 60)\n",
        "          .groupby('region')\n",
        "          .agg(prop_elderly=('is_elderly','mean'), n=('is_elderly','size'))\n",
        "          .reset_index()\n",
        "          .sort_values('prop_elderly', ascending=False))\n",
        "out\n",
        "```\n",
        "</details>\n"
      ]
    },
    {
      "cell_type": "markdown",
      "id": "7f4485fd",
      "metadata": {
        "id": "7f4485fd"
      },
      "source": [
        "## 5) Mini‑EDA (frequências por **região** e **faixa etária**) + exemplo DATASUS\n",
        "Use `value_counts()`/`groupby().size()` para obter frequências por categorias.\n"
      ]
    },
    {
      "cell_type": "code",
      "execution_count": null,
      "id": "0e53f949",
      "metadata": {
        "id": "0e53f949"
      },
      "outputs": [],
      "source": [
        "if 'region' in df_aug.columns:\n",
        "    freq_reg = df_aug['region'].value_counts(dropna=False).rename('casos').to_frame()\n",
        "    display(freq_reg)\n",
        "if 'age_group' in df_aug.columns:\n",
        "    freq_age = df_aug['age_group'].value_counts(dropna=False).rename('casos').to_frame()\n",
        "    display(freq_age)"
      ]
    },
    {
      "cell_type": "markdown",
      "id": "0c747705",
      "metadata": {
        "id": "0c747705"
      },
      "source": [
        "**Exercício de fixação (Seção 5)**  \n",
        "Usando `df_aug`, identifique a **região** e a **faixa etária** mais frequentes e seus totais.\n"
      ]
    },
    {
      "cell_type": "code",
      "execution_count": null,
      "id": "f9d1a083",
      "metadata": {
        "id": "f9d1a083"
      },
      "outputs": [],
      "source": [
        "# Sua resposta aqui\n"
      ]
    },
    {
      "cell_type": "markdown",
      "id": "7feebeca",
      "metadata": {
        "id": "7feebeca"
      },
      "source": [
        "<details><summary><strong>Solução</strong></summary>\n",
        "\n",
        "```python\n",
        "top_reg = df_aug['region'].value_counts().head(1)\n",
        "top_age = df_aug['age_group'].value_counts().head(1)\n",
        "display(top_reg); display(top_age)\n",
        "```\n",
        "</details>\n"
      ]
    },
    {
      "cell_type": "markdown",
      "id": "f2484552",
      "metadata": {
        "id": "f2484552"
      },
      "source": [
        "## 6) Mapa mental **R ↔ Python** (foco desta aula)\n",
        "\n",
        "| Tarefa (R/tidyverse) | `pandas` (Python) |\n",
        "|---|---|\n",
        "| `select(col1, col2)` | `df[['col1','col2']]` |\n",
        "| `filter(x > 0 & sexo == 'F')` | `df[(df['x']>0) & (df['sexo']=='F')]` ou `df.query('x > 0 and sexo == \"F\"')` |\n",
        "| `mutate(nova = f(x))` | `df.assign(nova = f(df['x']))` |\n",
        "| `summarise(n = n()) + group_by(g)` | `df.groupby('g').agg(n=('col','size'))` |\n",
        "| `arrange(desc(x))` | `df.sort_values('x', ascending=False)` |\n",
        "| `rename(novo = antigo)` | `df.rename(columns={'antigo':'novo'})` |\n",
        "\n",
        "> Joins & reshapes virão na Aula 3.\n"
      ]
    },
    {
      "cell_type": "markdown",
      "id": "1f807ddd",
      "metadata": {
        "id": "1f807ddd"
      },
      "source": [
        "## 7) Exercícios finais (7) — dificuldade progressiva\n",
        "\n",
        "**E1.** Selecione `age`, `sex`, `region` e conte, por `region`, **quantas linhas** existem para `sex==\"F\"` **e** `age >= 50` (use `query` + `groupby().size()`).\n",
        "\n",
        "**E2.** Crie `is_adult = age >= 18` via `assign` e produza uma tabela por `region` **e** `sex` com `n` e **proporção** de adultos.\n",
        "\n",
        "**E3.** Calcule **mediana**, **Q1** e **Q3** de `age` por `region` (use `agg` com lambdas `quantile`).\n",
        "\n",
        "**E4.** Crie `delay_days = (report_date - onset_date).dt.days` e, por `region`, calcule a **proporção** de `delay_days > 5`.\n",
        "\n",
        "**E5.** Crie `age_group` e calcule, por `age_group`, a **proporção** de `hospitalized=='internado'`. Liste as **três** faixas com maior proporção.\n",
        "\n",
        "**E6.** Parâmetros em `query`: `min_age = 30`, `sexo = \"M\"` → `df.query('age >= @min_age and sex == @sexo')` e conte por `region`.\n",
        "\n",
        "**E7 — Nível Olímpico (Pareto 80%)**  \n",
        "Para **cada `region`**, ordene `age_group` por casos decrescentes e retorne o **menor conjunto de faixas** que acumula **≥ 80%** dos casos da região, com colunas `region`, `k_faixas_min`, `faixas_selecionadas`, `cobertura`.\n"
      ]
    },
    {
      "cell_type": "code",
      "execution_count": null,
      "id": "9f4155f7",
      "metadata": {
        "id": "9f4155f7"
      },
      "outputs": [],
      "source": [
        "# E1 — sua resposta\n"
      ]
    },
    {
      "cell_type": "markdown",
      "id": "7d99ec4b",
      "metadata": {
        "id": "7d99ec4b"
      },
      "source": [
        "<details><summary><strong>Solução</strong></summary>\n",
        "\n",
        "```python\n",
        "e1 = (df[['age','sex','region']]\n",
        "        .query('sex == \"F\" and age >= 50')\n",
        "        .groupby('region')\n",
        "        .size().rename('n').reset_index()\n",
        "        .sort_values('n', ascending=False))\n",
        "e1\n",
        "```\n",
        "</details>\n"
      ]
    },
    {
      "cell_type": "code",
      "execution_count": null,
      "id": "01545be0",
      "metadata": {
        "id": "01545be0"
      },
      "outputs": [],
      "source": [
        "# E2 — sua resposta\n"
      ]
    },
    {
      "cell_type": "markdown",
      "id": "a28965fb",
      "metadata": {
        "id": "a28965fb"
      },
      "source": [
        "<details><summary><strong>Solução</strong></summary>\n",
        "\n",
        "```python\n",
        "e2 = (df.assign(is_adult = df['age'] >= 18)\n",
        "        .groupby(['region','sex'])\n",
        "        .agg(n=('is_adult','size'), prop_adult=('is_adult','mean'))\n",
        "        .reset_index()\n",
        "        .sort_values(['region','sex']))\n",
        "e2\n",
        "```\n",
        "</details>\n"
      ]
    },
    {
      "cell_type": "code",
      "execution_count": null,
      "id": "d987f607",
      "metadata": {
        "id": "d987f607"
      },
      "outputs": [],
      "source": [
        "# E3 — sua resposta\n"
      ]
    },
    {
      "cell_type": "markdown",
      "id": "72b4166b",
      "metadata": {
        "id": "72b4166b"
      },
      "source": [
        "<details><summary><strong>Solução</strong></summary>\n",
        "\n",
        "```python\n",
        "e3 = (df.groupby('region')\n",
        "        .agg(median=('age','median'),\n",
        "             q1=('age', lambda s: s.quantile(0.25)),\n",
        "             q3=('age', lambda s: s.quantile(0.75)))\n",
        "        .reset_index()\n",
        "        .sort_values('median', ascending=False))\n",
        "e3\n",
        "```\n",
        "</details>\n"
      ]
    },
    {
      "cell_type": "code",
      "execution_count": null,
      "id": "dfe595e8",
      "metadata": {
        "id": "dfe595e8"
      },
      "outputs": [],
      "source": [
        "# E4 — sua resposta\n"
      ]
    },
    {
      "cell_type": "markdown",
      "id": "0a95217e",
      "metadata": {
        "id": "0a95217e"
      },
      "source": [
        "<details><summary><strong>Solução</strong></summary>\n",
        "\n",
        "```python\n",
        "e4 = (df.assign(delay_days = (df['report_date'] - df['onset_date']).dt.days)\n",
        "        .assign(delay_gt5 = lambda d: d['delay_days'] > 5)\n",
        "        .groupby('region')\n",
        "        .agg(prop_delay_gt5=('delay_gt5','mean'), n=('delay_gt5','size'))\n",
        "        .reset_index()\n",
        "        .sort_values('prop_delay_gt5', ascending=False))\n",
        "e4\n",
        "```\n",
        "</details>\n"
      ]
    },
    {
      "cell_type": "code",
      "execution_count": null,
      "id": "0055046f",
      "metadata": {
        "id": "0055046f"
      },
      "outputs": [],
      "source": [
        "# E5 — sua resposta\n",
        "min_age = 30\n",
        "sexo = \"M\"\n"
      ]
    },
    {
      "cell_type": "markdown",
      "id": "2e71881b",
      "metadata": {
        "id": "2e71881b"
      },
      "source": [
        "<details><summary><strong>Solução</strong></summary>\n",
        "\n",
        "```python\n",
        "bins = [-1, 4, 11, 17, 29, 39, 49, 59, 69, 79, 200]\n",
        "labels = ['0-4','5-11','12-17','18-29','30-39','40-49','50-59','60-69','70-79','80+']\n",
        "e5 = (df.assign(age_group = pd.cut(df['age'], bins=bins, labels=labels))\n",
        "        .assign(is_hosp = lambda d: d['hospitalized'].eq('internado'))\n",
        "        .groupby('age_group')\n",
        "        .agg(prop_hosp=('is_hosp','mean'), n=('is_hosp','size'))\n",
        "        .reset_index()\n",
        "        .sort_values('prop_hosp', ascending=False)\n",
        "        .head(3))\n",
        "e5\n",
        "```\n",
        "</details>\n"
      ]
    },
    {
      "cell_type": "code",
      "execution_count": null,
      "id": "d5f0a4b1",
      "metadata": {
        "id": "d5f0a4b1"
      },
      "outputs": [],
      "source": [
        "# E6 — sua resposta\n",
        "min_age = 30\n",
        "sexo = \"M\"\n"
      ]
    },
    {
      "cell_type": "markdown",
      "id": "941328cd",
      "metadata": {
        "id": "941328cd"
      },
      "source": [
        "<details><summary><strong>Solução</strong></summary>\n",
        "\n",
        "```python\n",
        "min_age = 30; sexo = \"M\"\n",
        "e6 = (df[['age','sex','region']]\n",
        "        .query('age >= @min_age and sex == @sexo')\n",
        "        .groupby('region')\n",
        "        .size().rename('n').reset_index()\n",
        "        .sort_values('n', ascending=False))\n",
        "e6\n",
        "```\n",
        "</details>\n"
      ]
    },
    {
      "cell_type": "code",
      "execution_count": null,
      "id": "c6b3d257",
      "metadata": {
        "id": "c6b3d257"
      },
      "outputs": [],
      "source": [
        "# E7 — Nível Olímpico (Pareto 80%) — sua resposta\n",
        "bins = [-1, 4, 11, 17, 29, 39, 49, 59, 69, 79, 200]\n",
        "labels = ['0-4','5-11','12-17','18-29','30-39','40-49','50-59','60-69','70-79','80+']\n"
      ]
    },
    {
      "cell_type": "markdown",
      "id": "69205ed7",
      "metadata": {
        "id": "69205ed7"
      },
      "source": [
        "<details><summary><strong>Solução</strong></summary>\n",
        "\n",
        "```python\n",
        "bins = [-1, 4, 11, 17, 29, 39, 49, 59, 69, 79, 200]\n",
        "labels = ['0-4','5-11','12-17','18-29','30-39','40-49','50-59','60-69','70-79','80+']\n",
        "base = (df.assign(age_group = pd.cut(df['age'], bins=bins, labels=labels))\n",
        "          .groupby(['region','age_group']).size().rename('n').reset_index())\n",
        "base = base.sort_values(['region','n'], ascending=[True, False])\n",
        "base['n_total_reg'] = base.groupby('region')['n'].transform('sum')\n",
        "base['prop'] = base['n'] / base['n_total_reg']\n",
        "base['prop_acum'] = base.groupby('region')['prop'].cumsum()\n",
        "\n",
        "out_rows = []\n",
        "for reg, sub in base.groupby('region'):\n",
        "    sel = sub[sub['prop_acum'] >= 0.8]\n",
        "    if sel.empty:\n",
        "        k = len(sub)\n",
        "        faixas = tuple(sub['age_group'].astype(str).tolist())\n",
        "        cobertura = sub['prop_acum'].iloc[-1] if len(sub) else 0.0\n",
        "    else:\n",
        "        k_index = sel.index[0]\n",
        "        k = sub.index.get_loc(k_index) + 1\n",
        "        faixas = tuple(sub['age_group'].astype(str).iloc[:k].tolist())\n",
        "        cobertura = float(sub['prop_acum'].iloc[k-1])\n",
        "    out_rows.append({'region': reg, 'k_faixas_min': k, 'faixas_selecionadas': faixas, 'cobertura': cobertura})\n",
        "\n",
        "e7 = pd.DataFrame(out_rows).sort_values(['k_faixas_min','region'])\n",
        "e7\n",
        "```\n",
        "</details>\n"
      ]
    },
    {
      "cell_type": "markdown",
      "id": "9cf1a332",
      "metadata": {
        "id": "9cf1a332"
      },
      "source": [
        "## 8) Checklist de competências\n",
        "- [ ] Inspecionei `DataFrame`s com `shape`, `info`, `describe`, `value_counts`.\n",
        "- [ ] Selecionei colunas e **filtrei** linhas (máscaras e `query`).\n",
        "- [ ] Criei colunas com `assign` e resumi com `groupby().agg()`.\n",
        "- [ ] Fiz mini‑EDA (frequências por região e faixa etária).\n",
        "- [ ] Testei o exemplo de leitura **OpenDataSUS** (ou usei o fallback sintético).\n",
        "\n",
        "### O que praticar depois\n",
        "- Filtros combinados com `query` (`and`/`or`/`in`).\n",
        "- Pequenas funções reutilizáveis para `assign`.\n",
        "- Repetir a análise com outro ano do SIVEP ou outro recorte.\n",
        "\n",
        "### Referências\n",
        "- `pandas` docs: https://pandas.pydata.org/docs/  \n",
        "- `query`: https://pandas.pydata.org/docs/reference/api/pandas.DataFrame.query.html  \n",
        "- `groupby`: https://pandas.pydata.org/docs/user_guide/groupby.html  \n",
        "- **OpenDataSUS – SRAG 2021–2025 (SIVEP‑Gripe)**: consulte a página oficial para links CSV e dicionário.\n"
      ]
    }
  ],
  "metadata": {
    "colab": {
      "provenance": []
    },
    "kernelspec": {
      "display_name": "Python 3",
      "language": "python",
      "name": "python3"
    },
    "language_info": {
      "codemirror_mode": {
        "name": "ipython",
        "version": 3
      },
      "file_extension": ".py",
      "mimetype": "text/x-python",
      "name": "python",
      "nbconvert_exporter": "python",
      "pygments_lexer": "ipython3",
      "version": "3.12.4"
    }
  },
  "nbformat": 4,
  "nbformat_minor": 5
}
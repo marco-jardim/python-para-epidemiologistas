{
  "cells": [
    {
      "cell_type": "markdown",
      "id": "5570c96d",
      "metadata": {
        "id": "5570c96d"
      },
      "source": [
        "[![Open In Colab](https://colab.research.google.com/assets/colab-badge.svg)](https://colab.research.google.com/)\n",
        "\n",
        "# Aula 3 — Datas, Reshapes, Joins e Curva Epidêmica\n",
        "\n",
        "## Objetivos de aprendizagem\n",
        "- Parsear datas e usar `.dt` (dia/semana/mês/ano; ISO week).\n",
        "- Agregar por dia/semana com `groupby`/`resample` e criar janelas móveis.\n",
        "- Reestruturar dados com `melt`, `pivot` e `pivot_table` (wide ↔ long).\n",
        "- Realizar `joins` para incorporar **população por região** e calcular **incidência**.\n",
        "- Construir e interpretar uma **curva epidêmica** diária/semana epidemiológica.\n"
      ]
    },
    {
      "cell_type": "code",
      "execution_count": null,
      "id": "236c0267",
      "metadata": {
        "id": "236c0267"
      },
      "outputs": [],
      "source": [
        "#@title Instalar/Carregar dependências\n",
        "# Usaremos bibliotecas já disponíveis no Colab.\n",
        "import pandas as pd\n",
        "import numpy as np\n",
        "import matplotlib.pyplot as plt\n",
        "import io, requests\n",
        "\n",
        "pd.set_option('display.max_columns', 50)\n",
        "pd.set_option('display.width', 120)\n",
        "\n",
        "# Semente para reprodutibilidade\n",
        "rng = np.random.default_rng(42)\n",
        "print(\"Ambiente carregado.\")"
      ]
    },
    {
      "cell_type": "markdown",
      "id": "4a57e449",
      "metadata": {
        "id": "4a57e449"
      },
      "source": [
        "## 1) Dados sintéticos e dicionário de variáveis\n",
        "\n",
        "Vamos gerar um **line list** sintético: `id`, `age`, `sex`, `region`, `onset_date`, `report_date`, `hospitalized`.  \n",
        "Criaremos também uma `pop` por **região** para taxas/100 mil.\n",
        "\n",
        "**Dicionário:**\n",
        "- `id` (int) — identificador do caso\n",
        "- `age` (int) — idade em anos\n",
        "- `sex` ('F'/'M')\n",
        "- `region` ('Norte', 'Nordeste', 'Sudeste', 'Sul', 'Centro-Oeste')\n",
        "- `onset_date` (datetime) — data de início dos sintomas\n",
        "- `report_date` (datetime) — data de notificação\n",
        "- `hospitalized` ('internado'/'nao_internado')\n"
      ]
    },
    {
      "cell_type": "code",
      "execution_count": null,
      "id": "6d874e1f",
      "metadata": {
        "id": "6d874e1f"
      },
      "outputs": [],
      "source": [
        "# Funções utilitárias\n",
        "from datetime import datetime\n",
        "\n",
        "def generate_synthetic_line_list(n=1200, seed=42):\n",
        "    rng = np.random.default_rng(seed)\n",
        "    ids = np.arange(1, n+1)\n",
        "    ages = rng.integers(0, 90, size=n)\n",
        "    sex = rng.choice(['F', 'M'], size=n, p=[0.53, 0.47])\n",
        "    regions = rng.choice(['Norte', 'Nordeste', 'Sudeste', 'Sul', 'Centro-Oeste'], size=n, p=[0.08,0.28,0.43,0.14,0.07])\n",
        "    start = np.datetime64('2023-01-01')\n",
        "    onset = start + rng.integers(0, 300, size=n).astype('timedelta64[D]')\n",
        "    report_delay = rng.integers(0, 10, size=n).astype('timedelta64[D]')\n",
        "    report = onset + report_delay\n",
        "    hosp = rng.choice(['internado', 'nao_internado'], size=n, p=[0.18, 0.82])\n",
        "    return pd.DataFrame({\n",
        "        'id': ids,\n",
        "        'age': ages,\n",
        "        'sex': sex,\n",
        "        'region': regions,\n",
        "        'onset_date': pd.to_datetime(onset),\n",
        "        'report_date': pd.to_datetime(report),\n",
        "        'hospitalized': hosp\n",
        "    })\n",
        "\n",
        "def try_load_opendatasus_srag(sample_n=20000):\n",
        "    \"\"\"Tenta ler amostra do SIVEP‑Gripe (OpenDataSUS).\n",
        "    Usa requests com cabeçalho User-Agent para reduzir 403.\n",
        "    Retorna DataFrame normalizado OU None em falha.\n",
        "    \"\"\"\n",
        "    url = 'https://s3.sa-east-1.amazonaws.com/ckan.saude.gov.br/SRAG/2023/INFLUD23-26-06-2025.csv'\n",
        "    try:\n",
        "        resp = requests.get(url, headers={'User-Agent': 'Mozilla/5.0'}, timeout=60)\n",
        "        resp.raise_for_status()\n",
        "        # print(resp.content)\n",
        "        df_raw = pd.read_csv(io.BytesIO(resp.content), sep=';', encoding='latin1', nrows=sample_n, low_memory=False)\n",
        "\n",
        "        if df_raw is None or df_raw.empty:\n",
        "            print('Falha ao carregar OpenDataSUS: df_raw is None or empty')\n",
        "            return None\n",
        "\n",
        "        colmap = {}\n",
        "\n",
        "        for c in ['CS_SEXO','SEXO']:\n",
        "            if c in df_raw.columns: colmap[c] = 'sex'\n",
        "        for c in ['NU_IDADE_N','NU_IDADE']:\n",
        "            if c in df_raw.columns: colmap[c] = 'age'\n",
        "        for c in ['DT_SIN_PRI','DT_SINTOMA']:\n",
        "            if c in df_raw.columns: colmap[c] = 'onset_date'\n",
        "        for c in ['DT_NOTIFIC','DT_NOTIF']:\n",
        "            if c in df_raw.columns: colmap[c] = 'report_date'\n",
        "        for c in ['SG_UF_NOTA','SG_UF']:\n",
        "            if c in df_raw.columns: colmap[c] = 'uf'\n",
        "\n",
        "        df = df_raw.rename(columns=colmap).copy()\n",
        "        print('Colunas mapeadas:', list(colmap.values()))\n",
        "\n",
        "        if 'uf' in df.columns:\n",
        "            uf_to_region = {\n",
        "                'AC':'Norte','AP':'Norte','AM':'Norte','PA':'Norte','RO':'Norte','RR':'Norte','TO':'Norte',\n",
        "                'AL':'Nordeste','BA':'Nordeste','CE':'Nordeste','MA':'Nordeste','PB':'Nordeste','PE':'Nordeste','PI':'Nordeste','RN':'Nordeste','SE':'Nordeste',\n",
        "                'ES':'Sudeste','MG':'Sudeste','RJ':'Sudeste','SP':'Sudeste',\n",
        "                'PR':'Sul','RS':'Sul','SC':'Sul',\n",
        "                'DF':'Centro-Oeste','GO':'Centro-Oeste','MT':'Centro-Oeste','MS':'Centro-Oeste'\n",
        "            }\n",
        "            df['region'] = df['uf'].map(uf_to_region)\n",
        "\n",
        "        if 'age' in df.columns:\n",
        "            df['age'] = pd.to_numeric(df['age'], errors='coerce')\n",
        "            print('Idade convertida para numérico.')\n",
        "        if 'sex' in df.columns:\n",
        "            df['sex'] = df['sex'].astype(str).str.upper().str[0].replace({'F':'F','M':'M'})\n",
        "            print('Sexo convertido para str e mapeado para F/M.')\n",
        "        for dcol in ['onset_date','report_date']:\n",
        "            if dcol in df.columns:\n",
        "                df[dcol] = pd.to_datetime(df[dcol], errors='coerce', dayfirst=True)\n",
        "                print(f'Data convertida para datetime: {dcol}')\n",
        "\n",
        "        hosp_cols = [c for c in df_raw.columns if ('HOSP' in c.upper()) or ('UTI' in c.upper())]\n",
        "        if hosp_cols:\n",
        "            df['hospitalized'] = np.where(df_raw[hosp_cols].notna().any(axis=1), 'internado', 'nao_internado')\n",
        "        else:\n",
        "            df['hospitalized'] = 'nao_internado'\n",
        "\n",
        "        keep = [c for c in ['age','sex','region','onset_date','report_date','hospitalized'] if c in df.columns]\n",
        "        if not keep:\n",
        "            return None\n",
        "        return df[keep].dropna(how='all')\n",
        "    except Exception as e:\n",
        "        print('Falha ao carregar OpenDataSUS:', e)\n",
        "        return None\n",
        "\n",
        "# Carregamento principal com fallback\n",
        "df_remote = try_load_opendatasus_srag(sample_n=20000)\n",
        "if df_remote is None or df_remote.empty:\n",
        "    print('Usando dados SINTÉTICOS (fallback).')\n",
        "    df = generate_synthetic_line_list(n=1200, seed=42)\n",
        "else:\n",
        "    print('Dados do OpenDataSUS (amostra) carregados.')\n",
        "    df = df_remote.copy()\n",
        "\n",
        "display(df.head())\n",
        "\n",
        "# População por região (valores fictícios, mas proporcionais à realidade)\n",
        "pop = pd.DataFrame({\n",
        "    'region': ['Norte','Nordeste','Sudeste','Sul','Centro-Oeste'],\n",
        "    'pop':    [18800000, 57900000, 88000000, 30000000, 16000000]  # aproximado\n",
        "})\n",
        "\n",
        "display(pop.head())"
      ]
    },
    {
      "cell_type": "markdown",
      "id": "cc5a4715",
      "metadata": {
        "id": "cc5a4715"
      },
      "source": [
        "## 2) Datas: `to_datetime`, `.dt` e semana ISO\n",
        "\n",
        "- `pd.to_datetime(...)` para parsing;\n",
        "- `.dt` para extrair partes: `year`, `month`, `day`, `isocalendar().week`;\n",
        "- Slices por período com `.between()` e `loc`.\n"
      ]
    },
    {
      "cell_type": "code",
      "execution_count": null,
      "id": "1fe97a20",
      "metadata": {
        "id": "1fe97a20"
      },
      "outputs": [],
      "source": [
        "# Criar colunas auxiliares de datas a partir de onset_date\n",
        "df = df.assign(\n",
        "    year = df['onset_date'].dt.year,\n",
        "    month = df['onset_date'].dt.month,\n",
        "    iso = df['onset_date'].dt.isocalendar().week.rename('iso_week')\n",
        ")\n",
        "\n",
        "# Recorte: Q2 2023 (abril–junho) por onset\n",
        "mask_q2 = df['onset_date'].between('2023-04-01', '2023-06-30')\n",
        "df_q2 = df.loc[mask_q2].copy()\n",
        "print('Linhas no Q2/2023:', df_q2.shape[0])\n",
        "df_q2[['onset_date','year','month','iso']].head()"
      ]
    },
    {
      "cell_type": "markdown",
      "id": "c50e519b",
      "metadata": {
        "id": "c50e519b"
      },
      "source": [
        "**Exercício de fixação (Seção 2)**  \n",
        "Crie as colunas `report_year`, `report_month` e `report_iso` (a partir de `report_date`) e conte **casos semanais** por `report_iso` (qualquer ano). Mostre as 5 primeiras linhas ordenadas por `report_iso`.\n"
      ]
    },
    {
      "cell_type": "code",
      "execution_count": null,
      "id": "9d3a2946",
      "metadata": {
        "id": "9d3a2946"
      },
      "outputs": [],
      "source": [
        "# Sua resposta aqui\n"
      ]
    },
    {
      "cell_type": "markdown",
      "id": "6aab8cfa",
      "metadata": {
        "id": "6aab8cfa"
      },
      "source": [
        "<details><summary><strong>Solução sugerida</strong></summary>\n",
        "\n",
        "```python\n",
        "df_fix2 = df.assign(\n",
        "    report_year = df['report_date'].dt.year,\n",
        "    report_month = df['report_date'].dt.month,\n",
        "    report_iso = df['report_date'].dt.isocalendar().week.rename('report_iso')\n",
        ")\n",
        "out_fix2 = (df_fix2\n",
        "            .groupby('report_iso')\n",
        "            .size()\n",
        "            .rename('n')\n",
        "            .reset_index()\n",
        "            .sort_values('report_iso'))\n",
        "out_fix2.head()\n",
        "```\n",
        "\n",
        "</details>\n"
      ]
    },
    {
      "cell_type": "markdown",
      "id": "831cd370",
      "metadata": {
        "id": "831cd370"
      },
      "source": [
        "## 3) Agregações diárias/semanais e média móvel (curva epidêmica básica)\n",
        "\n",
        "- Contagem diária por `onset_date` (`groupby`/`size`).\n",
        "- Reamostragem semanal e média móvel de 7 dias.\n"
      ]
    },
    {
      "cell_type": "code",
      "execution_count": null,
      "id": "0db1c2a8",
      "metadata": {
        "id": "0db1c2a8"
      },
      "outputs": [],
      "source": [
        "# Série diária por onset_date\n",
        "daily = (df.groupby('onset_date')\n",
        "           .size()\n",
        "           .rename('cases')\n",
        "           .to_frame()\n",
        "           .sort_index())\n",
        "\n",
        "# Média móvel de 7 dias\n",
        "daily['ma7'] = daily['cases'].rolling(7, min_periods=1).mean()\n",
        "\n",
        "# Série semanal (segunda-feira como anchor por padrão)\n",
        "weekly = (daily['cases']\n",
        "          .resample('W-MON')\n",
        "          .sum()\n",
        "          .rename('cases_week'))\n",
        "\n",
        "display(daily.head(), weekly.head())\n",
        "\n",
        "# Outras opções de séries: 'W-TUE', 'D', '2D', 'W', 'M'. 'A'\n",
        "\n",
        "# Plot rápido\n",
        "ax = daily['cases'].plot(figsize=(8,3), label='Diário')\n",
        "daily['ma7'].plot(ax=ax, label='MM7', linewidth=2)\n",
        "plt.title('Curva epidêmica — casos por data de início (sintético)')\n",
        "plt.xlabel('Data'); plt.ylabel('Casos')\n",
        "plt.legend(); plt.tight_layout()"
      ]
    },
    {
      "cell_type": "markdown",
      "id": "6b4f51cb",
      "metadata": {
        "id": "6b4f51cb"
      },
      "source": [
        "**Exercício de fixação (Seção 3)**  \n",
        "Crie uma série **semanal por região**: `onset_week` (`W-MON`) × `region`. Mostre a **tabela longa** com `week`, `region`, `n` (primeiras 10 linhas).\n"
      ]
    },
    {
      "cell_type": "code",
      "execution_count": null,
      "id": "be7ff000",
      "metadata": {
        "id": "be7ff000"
      },
      "outputs": [],
      "source": [
        "# Sua resposta aqui\n",
        "ser = (df.groupby(['region','onset_date']).size()\n",
        "         .rename('n').to_frame())\n",
        "display(ser.head())\n",
        "wk = (ser['n'].resample('W-MON', level='onset_date').sum()\n",
        "        .rename('n').to_frame()\n",
        "        .reset_index())\n",
        "wk.head(10)"
      ]
    },
    {
      "cell_type": "markdown",
      "id": "7f8bace1",
      "metadata": {
        "id": "7f8bace1"
      },
      "source": [
        "<details><summary><strong>Solução sugerida</strong></summary>\n",
        "\n",
        "```python\n",
        "ser = (df.groupby(['region','onset_date']).size()\n",
        "         .rename('n').to_frame())\n",
        "wk = (ser['n'].resample('W-MON', level='onset_date').sum()\n",
        "        .rename('n').to_frame()\n",
        "        .reset_index())\n",
        "wk.head(10)\n",
        "```\n",
        "\n",
        "</details>\n"
      ]
    },
    {
      "cell_type": "markdown",
      "id": "63e97a8b",
      "metadata": {
        "id": "63e97a8b"
      },
      "source": [
        "## 4) Reshapes: `melt`, `pivot` e `pivot_table`\n",
        "\n",
        "Vamos transformar uma tabela **semanal por região** (longa) para **wide** e de volta:\n",
        "- `pivot(index='week', columns='region', values='n')`\n",
        "- `melt(id_vars=['week'], var_name='region', value_name='n')`\n"
      ]
    },
    {
      "cell_type": "code",
      "execution_count": null,
      "id": "43bf1144",
      "metadata": {
        "id": "43bf1144"
      },
      "outputs": [],
      "source": [
        "# Tabela longa semanal por região\n",
        "week_longa = (df\n",
        "         .groupby([pd.Grouper(key='onset_date', freq='W-MON', label='left'), 'region'])\n",
        "         .size()\n",
        "         .rename('n')\n",
        "         .reset_index()\n",
        "         .rename(columns={'onset_date': 'week'}))\n",
        "\n",
        "# Wide: week × region\n",
        "wide = (week_longa\n",
        "        .pivot(index='week', columns='region', values='n')\n",
        "        .fillna(0)\n",
        "        .astype(int)\n",
        "        .sort_index())\n",
        "\n",
        "# Volta para long\n",
        "long_again = (wide\n",
        "              .reset_index()\n",
        "              .melt(id_vars='week', var_name='region', value_name='n')\n",
        "              .sort_values(['week', 'region']))\n",
        "\n",
        "week_longa.head(), wide.head(), long_again.head()"
      ]
    },
    {
      "cell_type": "markdown",
      "id": "2f9acaba",
      "metadata": {
        "id": "2f9acaba"
      },
      "source": [
        "**Exercício de fixação (Seção 4)**  \n",
        "Usando `week_longa`, crie uma **tabela com totais semanais** (soma entre regiões) via `pivot_table` (ou `groupby`) e mostre as 5 primeiras linhas.\n"
      ]
    },
    {
      "cell_type": "code",
      "execution_count": null,
      "id": "25eff957",
      "metadata": {
        "id": "25eff957"
      },
      "outputs": [],
      "source": [
        "# Sua resposta aqui\n",
        "# Dica: pivot table possui uma função agregadora embutida: .pivot_table( ... aggfunc= ...)\n"
      ]
    },
    {
      "cell_type": "markdown",
      "id": "786893e7",
      "metadata": {
        "id": "786893e7"
      },
      "source": [
        "<details><summary><strong>Solução sugerida</strong></summary>\n",
        "\n",
        "```python\n",
        "tot_sem = (week_longa\n",
        "           .pivot_table(index='week', values='n', aggfunc='sum')\n",
        "           .rename(columns={'n':'n_total'}))\n",
        "tot_sem.head()\n",
        "```\n",
        "\n",
        "</details>\n"
      ]
    },
    {
      "cell_type": "markdown",
      "id": "5c824106",
      "metadata": {
        "id": "5c824106"
      },
      "source": [
        "## 5) Joins (`merge`) e cálculo de **incidência** por 100 mil\n",
        "\n",
        "Vamos **juntar** (`merge`) a população por `region` e calcular a **incidência/100 mil**:\n",
        "- `inc = (n / pop) * 1e5`\n",
        "- comparar regiões em uma semana.\n"
      ]
    },
    {
      "cell_type": "code",
      "execution_count": null,
      "id": "e517b44a",
      "metadata": {
        "id": "e517b44a"
      },
      "outputs": [],
      "source": [
        "# Seleciona uma semana para exemplo (a última disponível)\n",
        "last_week = week_longa['week'].max()\n",
        "\n",
        "wk_last = week_longa[week_longa['week'] == last_week].copy()\n",
        "wk_last = wk_last.merge(pop, on='region', how='left')\n",
        "wk_last['inc_100k'] = (wk_last['n'] / wk_last['pop']) * 1e5\n",
        "\n",
        "wk_last.sort_values('inc_100k', ascending=False)"
      ]
    },
    {
      "cell_type": "markdown",
      "id": "949ac056",
      "metadata": {
        "id": "949ac056"
      },
      "source": [
        "**Exercício de fixação (Seção 5)**  \n",
        "Calcule a **incidência semanal por 100 mil** para **todas as semanas e regiões** e retorne a **tabela longa** `week, region, n, inc_100k`. Mostre 8 primeiras linhas.\n"
      ]
    },
    {
      "cell_type": "code",
      "execution_count": null,
      "id": "03a44bab",
      "metadata": {
        "id": "03a44bab"
      },
      "outputs": [],
      "source": [
        "# Sua resposta aqui\n"
      ]
    },
    {
      "cell_type": "markdown",
      "id": "053c2fe4",
      "metadata": {
        "id": "053c2fe4"
      },
      "source": [
        "<details><summary><strong>Solução sugerida</strong></summary>\n",
        "\n",
        "```python\n",
        "week_longa = wk_lr.merge(pop, on='region', how='left')\n",
        "wk_all['inc_100k'] = (wk_all['n'] / wk_all['pop']) * 1e5\n",
        "wk_all.sort_values(['week','region']).head(8)\n",
        "```\n",
        "\n",
        "</details>\n"
      ]
    },
    {
      "cell_type": "markdown",
      "id": "1c9cf1ce",
      "metadata": {
        "id": "1c9cf1ce"
      },
      "source": [
        "## 6) Curva epidêmica por região (loop de plots)\n",
        "\n",
        "Vamos visualizar a curva semanal por região. No Colab, os gráficos aparecem inline.\n"
      ]
    },
    {
      "cell_type": "code",
      "execution_count": null,
      "id": "8a72fd2a",
      "metadata": {
        "id": "8a72fd2a"
      },
      "outputs": [],
      "source": [
        "regions = week_longa['region'].unique()\n",
        "fig, axes = plt.subplots(len(regions), 1, figsize=(8, 2.2*len(regions)), sharex=True)\n",
        "if len(regions) == 1:\n",
        "    axes = [axes]\n",
        "for ax, reg in zip(axes, regions):\n",
        "    s = week_longa[week_longa['region']==reg].set_index('week')['n']\n",
        "    s.plot(ax=ax)\n",
        "    ax.set_title(f'Região: {reg} — casos semanais (onset)')\n",
        "    ax.set_ylabel('Casos')\n",
        "plt.xlabel('Semana'); plt.tight_layout()"
      ]
    },
    {
      "cell_type": "markdown",
      "id": "585b4445",
      "metadata": {
        "id": "585b4445"
      },
      "source": [
        "**Exercício de fixação (Seção 6)**  \n",
        "Crie a coluna `mm3` (média móvel de 3 semanas) em `week_longa` por região e plote `n` × `mm3` para **uma** região à sua escolha.\n"
      ]
    },
    {
      "cell_type": "code",
      "execution_count": null,
      "id": "5643b735",
      "metadata": {
        "id": "5643b735"
      },
      "outputs": [],
      "source": [
        "# Sua resposta aqui\n",
        "# Dica: use a função .rolling(...) em um dataframe\n"
      ]
    },
    {
      "cell_type": "markdown",
      "id": "d62c90b6",
      "metadata": {
        "id": "d62c90b6"
      },
      "source": [
        "<details><summary><strong>Solução sugerida</strong></summary>\n",
        "\n",
        "```python\n",
        "reg = 'Sudeste'  # altere se quiser\n",
        "tmp = week_longa[week_longa['region']==reg].copy().sort_values('week')\n",
        "tmp['mm3'] = tmp['n'].rolling(3, min_periods=1).mean()\n",
        "\n",
        "ax = tmp.set_index('week')['n'].plot(figsize=(7,3), label='n')\n",
        "tmp.set_index('week')['mm3'].plot(ax=ax, label='MM3', linewidth=2)\n",
        "plt.title(f'{reg}: casos semanais e MM3')\n",
        "plt.legend(); plt.tight_layout()\n",
        "```\n",
        "\n",
        "</details>\n"
      ]
    },
    {
      "cell_type": "markdown",
      "id": "2755145c",
      "metadata": {
        "id": "2755145c"
      },
      "source": [
        "## 7) Exercícios finais (7) — dificuldade progressiva\n",
        "\n",
        "**E1. Seleção + filtro + contagem.**  \n",
        "Selecione `age`, `sex`, `region` e **conte**, por `region`, o número de casos com `sex == \"F\"` e `age >= 50` (revisão Aula 2).\n",
        "\n",
        "**E2. Week x Region wide.**  \n",
        "A partir de `wk_lr`, gere uma tabela **wide** `week × region` com zeros nos ausentes (revisão reshapes).\n",
        "\n",
        "**E3. Join + incidência.**  \n",
        "Una `wk_lr` à população (`pop`) e inclua `inc_100k`. Liste a **semana de maior incidência** para cada região.\n",
        "\n",
        "**E4. Atraso de notificação.**  \n",
        "Crie `delay_days = (report_date - onset_date).dt.days`. Para cada região e **semana de onset**, calcule a **proporção** de `delay_days > 5`.\n",
        "\n",
        "**E5. Faixa etária + hospitalização.**  \n",
        "Crie `age_group` (0‑4, 5‑11, …, 80+) e calcule, por `age_group`, a **proporção** de `hospitalized == 'internado'`. Mostre o **top‑3**.\n",
        "\n",
        "**E6. Semana com pico (por região).**  \n",
        "Para cada região, encontre a semana (em `wk_lr`) com **pico de casos** (empate: escolha a mais recente).\n",
        "\n",
        "**E7 — Nível Olímpico. Picos sincronizados.**  \n",
        "1) Construa a tabela wide `week × region` (casos semanais).  \n",
        "2) Para cada semana, marque `1` se a região está **em pico local** (maior que vizinhas imediatas: semana anterior e posterior); caso borda, considere janela disponível.  \n",
        "3) Encontre a **semana** com **maior número de regiões** em pico simultaneamente e liste as **regiões** que compõem esse pico sincronizado.\n"
      ]
    },
    {
      "cell_type": "code",
      "execution_count": null,
      "id": "5337b09e",
      "metadata": {
        "id": "5337b09e"
      },
      "outputs": [],
      "source": [
        "# E1 — sua resposta\n"
      ]
    },
    {
      "cell_type": "markdown",
      "id": "cfb0d1c4",
      "metadata": {
        "id": "cfb0d1c4"
      },
      "source": [
        "<details><summary><strong>Solução sugerida</strong></summary>\n",
        "\n",
        "```python\n",
        "e1 = (df[['age','sex','region']]\n",
        "        .query('sex == \"F\" and age >= 50')\n",
        "        .groupby('region')\n",
        "        .size()\n",
        "        .rename('n')\n",
        "        .reset_index()\n",
        "        .sort_values('n', ascending=False))\n",
        "e1\n",
        "```\n",
        "\n",
        "</details>\n"
      ]
    },
    {
      "cell_type": "code",
      "execution_count": null,
      "id": "c8042e65",
      "metadata": {
        "id": "c8042e65"
      },
      "outputs": [],
      "source": [
        "# E2 — sua resposta\n"
      ]
    },
    {
      "cell_type": "markdown",
      "id": "99021e0d",
      "metadata": {
        "id": "99021e0d"
      },
      "source": [
        "<details><summary><strong>Solução sugerida</strong></summary>\n",
        "\n",
        "```python\n",
        "wide_e2 = (week_longa\n",
        "           .pivot(index='week', columns='region', values='n')\n",
        "           .fillna(0).astype(int))\n",
        "wide_e2.head()\n",
        "```\n",
        "\n",
        "</details>\n"
      ]
    },
    {
      "cell_type": "code",
      "execution_count": null,
      "id": "b5453106",
      "metadata": {
        "id": "b5453106"
      },
      "outputs": [],
      "source": [
        "# E3 — sua resposta\n"
      ]
    },
    {
      "cell_type": "markdown",
      "id": "3b6543ca",
      "metadata": {
        "id": "3b6543ca"
      },
      "source": [
        "<details><summary><strong>Solução sugerida</strong></summary>\n",
        "\n",
        "```python\n",
        "e3 = (week_longa.merge(pop, on='region', how='left')\n",
        "           .assign(inc_100k = lambda d: (d['n']/d['pop'])*1e5))\n",
        "e3_top = (e3.sort_values(['region','inc_100k'])\n",
        "            .groupby('region').tail(1)\n",
        "            .sort_values('inc_100k', ascending=False))\n",
        "e3_top\n",
        "```\n",
        "\n",
        "</details>\n"
      ]
    },
    {
      "cell_type": "code",
      "execution_count": null,
      "id": "7ee2dd3f",
      "metadata": {
        "id": "7ee2dd3f"
      },
      "outputs": [],
      "source": [
        "# E4 — sua resposta\n"
      ]
    },
    {
      "cell_type": "markdown",
      "id": "419dbdd0",
      "metadata": {
        "id": "419dbdd0"
      },
      "source": [
        "<details><summary><strong>Solução sugerida</strong></summary>\n",
        "\n",
        "```python\n",
        "df_delay = df.assign(delay_days = (df['report_date'] - df['onset_date']).dt.days)\n",
        "e4 = (df_delay\n",
        "      .assign(delay_gt5 = df_delay['delay_days'] > 5)\n",
        "      .groupby([pd.Grouper(key='onset_date', freq='W-MON'), 'region'])\n",
        "      .agg(prop_delay_gt5=('delay_gt5','mean'), n=('delay_gt5','size'))\n",
        "      .reset_index()\n",
        "      .rename(columns={'onset_date':'week'}))\n",
        "e4.head(10)\n",
        "```\n",
        "\n",
        "</details>\n"
      ]
    },
    {
      "cell_type": "code",
      "execution_count": null,
      "id": "bcf63e76",
      "metadata": {
        "id": "bcf63e76"
      },
      "outputs": [],
      "source": [
        "# E5 — sua resposta\n"
      ]
    },
    {
      "cell_type": "markdown",
      "id": "5c758eb2",
      "metadata": {
        "id": "5c758eb2"
      },
      "source": [
        "<details><summary><strong>Solução sugerida</strong></summary>\n",
        "\n",
        "```python\n",
        "bins = [-1, 4, 11, 17, 29, 39, 49, 59, 69, 79, 200]\n",
        "labels = ['0-4','5-11','12-17','18-29','30-39','40-49','50-59','60-69','70-79','80+']\n",
        "e5 = (df.assign(age_group = pd.cut(df['age'], bins=bins, labels=labels))\n",
        "        .assign(is_hosp = lambda d: d['hospitalized'].eq('internado'))\n",
        "        .groupby('age_group')\n",
        "        .agg(prop_hosp=('is_hosp','mean'), n=('is_hosp','size'))\n",
        "        .reset_index()\n",
        "        .sort_values('prop_hosp', ascending=False)\n",
        "        .head(3))\n",
        "e5\n",
        "```\n",
        "\n",
        "</details>\n"
      ]
    },
    {
      "cell_type": "code",
      "execution_count": null,
      "id": "c62b10b1",
      "metadata": {
        "id": "c62b10b1"
      },
      "outputs": [],
      "source": [
        "# E6 — sua resposta\n"
      ]
    },
    {
      "cell_type": "markdown",
      "id": "9c08d8b5",
      "metadata": {
        "id": "9c08d8b5"
      },
      "source": [
        "<details><summary><strong>Solução sugerida</strong></summary>\n",
        "\n",
        "```python\n",
        "e6 = (week_longa.sort_values(['region','week'])\n",
        "         .groupby('region')\n",
        "         .apply(lambda g: g.loc[g['n'].idxmax()])\n",
        "         .reset_index(drop=True)\n",
        "         .sort_values('n', ascending=False))\n",
        "e6\n",
        "```\n",
        "\n",
        "</details>\n"
      ]
    },
    {
      "cell_type": "code",
      "execution_count": null,
      "id": "ee328957",
      "metadata": {
        "id": "ee328957"
      },
      "outputs": [],
      "source": [
        "# E7 — Nível Olímpico: Picos sincronizados em janelas locais\n",
        "# 1) wide week × region\n",
        "\n",
        "# 2) pico local: maior que vizinhas imediatas\n",
        "\n",
        "\n",
        "# 3) semana com mais regiões em pico simultâneo\n"
      ]
    },
    {
      "cell_type": "markdown",
      "id": "f921ae9d",
      "metadata": {
        "id": "f921ae9d"
      },
      "source": [
        "<details><summary><strong>Solução sugerida</strong></summary>\n",
        "\n",
        "```python\n",
        "wide_e7 = (week_longa.pivot(index='week', columns='region', values='n').fillna(0).astype(int))\n",
        "def local_peaks(series):\n",
        "    s = series.fillna(0).astype(float).values\n",
        "    peaks = np.zeros_like(s, dtype=bool)\n",
        "    for i in range(len(s)):\n",
        "        left = s[i-1] if i-1 >= 0 else -np.inf\n",
        "        right = s[i+1] if i+1 < len(s) else -np.inf\n",
        "        if s[i] > left and s[i] > right:\n",
        "            peaks[i] = True\n",
        "    return pd.Series(peaks, index=series.index)\n",
        "peak_flags = wide_e7.apply(local_peaks)\n",
        "peak_count = peak_flags.sum(axis=1)\n",
        "best_week = peak_count.idxmax()\n",
        "regions_in_peak = peak_flags.columns[peak_flags.loc[best_week]].tolist()\n",
        "out_e7 = pd.DataFrame({'best_week':[best_week],\n",
        "                       'num_regions':[int(peak_count.loc[best_week])],\n",
        "                       'regions':[regions_in_peak]})\n",
        "out_e7\n",
        "```\n",
        "\n",
        "</details>\n"
      ]
    },
    {
      "cell_type": "markdown",
      "id": "6cc56029",
      "metadata": {
        "id": "6cc56029"
      },
      "source": [
        "## 8) Checklist de competências\n",
        "- [ ] Parsear datas (`to_datetime`) e usar `.dt`/ISO week.\n",
        "- [ ] Agregar por dia/semana e calcular médias móveis.\n",
        "- [ ] Reestruturar dados com `melt`/`pivot`/`pivot_table`.\n",
        "- [ ] Unificação `merge` com população e calculei **incidência/100 mil**.\n",
        "- [ ] Construção e interpretação com **curvas epidêmicas** (por região).\n",
        "\n",
        "## 9) Aula 4: Visualizações\n",
        "\n",
        "## 10) Referências\n",
        "- `to_datetime`: https://pandas.pydata.org/docs/reference/api/pandas.to_datetime.html  \n",
        "- `dt` accessor: https://pandas.pydata.org/docs/reference/series.html#datetimelike-properties  \n",
        "- `pivot`/`melt`: https://pandas.pydata.org/docs/user_guide/reshaping.html  \n",
        "- `merge`: https://pandas.pydata.org/docs/reference/api/pandas.DataFrame.merge.html  \n",
        "- `resample`: https://pandas.pydata.org/docs/user_guide/timeseries.html#dateoffset-objects\n"
      ]
    }
  ],
  "metadata": {
    "kernelspec": {
      "display_name": "Python 3",
      "language": "python",
      "name": "python3"
    },
    "language_info": {
      "codemirror_mode": {
        "name": "ipython",
        "version": 3
      },
      "file_extension": ".py",
      "mimetype": "text/x-python",
      "name": "python",
      "nbconvert_exporter": "python",
      "pygments_lexer": "ipython3",
      "version": "3.12.4"
    },
    "colab": {
      "provenance": []
    }
  },
  "nbformat": 4,
  "nbformat_minor": 5
}
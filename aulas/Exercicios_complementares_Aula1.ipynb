{
 "cells": [
  {
   "cell_type": "markdown",
   "id": "bbccc757",
   "metadata": {},
   "source": [
    "[![Open In Colab](https://colab.research.google.com/assets/colab-badge.svg)](https://colab.research.google.com/)\n",
    "\n",
    "# Exercícios complementares para a Aula 1\n",
    "\n",
    "> **Escopo:** Fundamentos de Python (tipos/operadores, listas/tuplas/dicionários, condicionais, loops, funções, *list comprehension*).     \n",
    "\n",
    "Sinta‑se livre para alterar os valores de exemplo em cada célula.\n"
   ]
  },
  {
   "cell_type": "code",
   "execution_count": 1,
   "id": "1136a217",
   "metadata": {},
   "outputs": [],
   "source": [
    "#@title Setup mínimo (nenhuma dependência extra)\n",
    "import math\n",
    "import random\n",
    "random.seed(42)  # reprodutibilidade de exemplos aleatórios\n"
   ]
  },
  {
   "cell_type": "markdown",
   "id": "8fb96fc5",
   "metadata": {},
   "source": [
    "## Exercício 1 — Tipos & Operadores (aquecimento)\n",
    "**Explicação.** Dadas três variáveis numéricas `a`, `b` e `c`, calcule:\n",
    "- média aritmética,\n",
    "- mínimo e máximo,\n",
    "- mediana (com **3** números, a mediana é o valor do meio após ordenar).\n",
    "\n",
    "Retorne/mostre uma *tupla* `(media, mediana, minimo, maximo)`.\n"
   ]
  },
  {
   "cell_type": "code",
   "execution_count": 5,
   "id": "3fc0e2b2",
   "metadata": {},
   "outputs": [],
   "source": [
    "# COMPLETE: ajuste os valores e calcule a tupla solicitada\n",
    "a, b, c = 10, 5, 8  # altere se quiser\n",
    "# Seu código aqui ↓\n"
   ]
  },
  {
   "cell_type": "markdown",
   "id": "cae821bb",
   "metadata": {},
   "source": [
    "<details><summary><strong>Resposta sugerida</strong></summary>\n",
    "\n",
    "```python\n",
    "a, b, c = 10, 5, 8\n",
    "nums = [a, b, c]\n",
    "media = sum(nums)/3\n",
    "mediana = sorted(nums)[1]\n",
    "resultado = (media, mediana, min(nums), max(nums))\n",
    "print(resultado)\n",
    "```\n",
    "\n",
    "</details>\n"
   ]
  },
  {
   "cell_type": "markdown",
   "id": "942eeef7",
   "metadata": {},
   "source": [
    "## Exercício 2 — Strings e normalização simples\n",
    "**Explicação.** Dada uma string `nome_bruto`, remova espaços extras nas pontas, padronize para `Title Case`\n",
    "(e.g., `\"maria da silva\" -> \"Maria Da Silva\"`) e crie um *slug* simples minúsculo com `_` no lugar de espaços.\n",
    "\n",
    "Mostre `nome_normalizado` e `slug`.\n"
   ]
  },
  {
   "cell_type": "code",
   "execution_count": 4,
   "id": "4d4d7347",
   "metadata": {},
   "outputs": [],
   "source": [
    "# COMPLETE: normalize a string\n",
    "nome_bruto = \"   maRIA dA silva   \"\n",
    "# Seu código aqui ↓\n"
   ]
  },
  {
   "cell_type": "markdown",
   "id": "b663e0ed",
   "metadata": {},
   "source": [
    "<details><summary><strong>Resposta sugerida</strong></summary>\n",
    "\n",
    "```python\n",
    "nome_bruto = \"   maRIA dA silva   \"\n",
    "limpo = nome_bruto.strip()\n",
    "nome_normalizado = \" \".join(p.capitalize() for p in limpo.split())\n",
    "slug = limpo.lower().replace(\" \", \"_\")\n",
    "print(nome_normalizado, slug)\n",
    "```\n",
    "\n",
    "</details>\n"
   ]
  },
  {
   "cell_type": "markdown",
   "id": "2eaf9e11",
   "metadata": {},
   "source": [
    "## Exercício 3 — Listas, loops e somatórios\n",
    "**Explicação.** Para um `n` (inteiro positivo), gere a lista dos **n primeiros quadrados**: `[1, 4, 9, ...]` e calcule a soma desses valores.\n",
    "Faça de **duas formas**: (a) *for* tradicional e (b) *list comprehension*.\n"
   ]
  },
  {
   "cell_type": "code",
   "execution_count": 7,
   "id": "7d3baf7b",
   "metadata": {},
   "outputs": [],
   "source": [
    "# COMPLETE: duas formas de gerar e somar quadrados\n",
    "n = 10  # altere\n",
    "# (a) loop for\n",
    "\n",
    "\n",
    "# (b) list comprehension\n"
   ]
  },
  {
   "cell_type": "markdown",
   "id": "c5d93dbd",
   "metadata": {},
   "source": [
    "<details><summary><strong>Resposta sugerida</strong></summary>\n",
    "\n",
    "```python\n",
    "n = 10\n",
    "quadrados_loop = []\n",
    "for i in range(1, n+1):\n",
    "    quadrados_loop.append(i*i)\n",
    "soma_loop = sum(quadrados_loop)\n",
    "\n",
    "quadrados_comp = [i*i for i in range(1, n+1)]\n",
    "soma_comp = sum(quadrados_comp)\n",
    "\n",
    "print(soma_loop, soma_comp)\n",
    "```\n",
    "\n",
    "</details>\n"
   ]
  },
  {
   "cell_type": "markdown",
   "id": "cd1bf194",
   "metadata": {},
   "source": [
    "## Exercício 4 — Tuplas & desempacotamento\n",
    "**Explicação.** Dada uma lista de **tuplas** `(nome, ano_nasc)` e o `ano_atual`, crie um dicionário `idades` que mapeia `nome -> idade`.\n",
    "Em seguida, mostre o par `(nome, idade)` da pessoa mais velha.\n"
   ]
  },
  {
   "cell_type": "code",
   "execution_count": 9,
   "id": "5add3dab",
   "metadata": {},
   "outputs": [],
   "source": [
    "# COMPLETE\n",
    "pessoas = [(\"Ana\", 1990), (\"Bruno\", 1985), (\"Carla\", 2001), (\"Daniel\", 1975)]\n",
    "ano_atual = 2025\n",
    "# A saída esperada\n",
    "# {'Chave': Valor, ...}\n",
    "# ('Nome do mais velho', idade)\n"
   ]
  },
  {
   "cell_type": "markdown",
   "id": "9e47a544",
   "metadata": {},
   "source": [
    "<details><summary><strong>Resposta sugerida</strong></summary>\n",
    "\n",
    "```python\n",
    "pessoas = [(\"Ana\", 1990), (\"Bruno\", 1985), (\"Carla\", 2001), (\"Daniel\", 1975)]\n",
    "ano_atual = 2025\n",
    "idades = {nome: (ano_atual - ano) for (nome, ano) in pessoas}\n",
    "mais_velho = max(idades.items(), key=lambda kv: kv[1])\n",
    "print(idades)\n",
    "print(mais_velho)\n",
    "```\n",
    "\n",
    "</details>\n"
   ]
  },
  {
   "cell_type": "markdown",
   "id": "c96a317e",
   "metadata": {},
   "source": [
    "## Exercício 5 — Dicionários: contagens por categoria\n",
    "**Explicação.** Considere a lista de registros abaixo (mini *line list* sintética **embutida**) com chaves `sexo` e `regiao`.\n",
    "Calcule dois dicionários de contagem: `cont_sexo` e `cont_regiao`.\n"
   ]
  },
  {
   "cell_type": "code",
   "execution_count": 12,
   "id": "40d87f89",
   "metadata": {},
   "outputs": [],
   "source": [
    "# COMPLETE\n",
    "registros = [\n",
    "    {\"id\":1, \"sexo\":\"F\", \"regiao\":\"Nordeste\"},\n",
    "    {\"id\":2, \"sexo\":\"M\", \"regiao\":\"Sudeste\"},\n",
    "    {\"id\":3, \"sexo\":\"F\", \"regiao\":\"Sudeste\"},\n",
    "    {\"id\":4, \"sexo\":\"M\", \"regiao\":\"Nordeste\"},\n",
    "    {\"id\":5, \"sexo\":\"F\", \"regiao\":\"Sul\"},\n",
    "    {\"id\":6, \"sexo\":\"F\", \"regiao\":\"Nordeste\"},\n",
    "]\n"
   ]
  },
  {
   "cell_type": "markdown",
   "id": "3f8f6701",
   "metadata": {},
   "source": [
    "<details><summary><strong>Resposta sugerida</strong></summary>\n",
    "\n",
    "```python\n",
    "cont_sexo = {}\n",
    "cont_regiao = {}\n",
    "\n",
    "for r in registros:\n",
    "    cont_sexo[r[\"sexo\"]] = cont_sexo.get(r[\"sexo\"], 0) + 1\n",
    "    cont_regiao[r[\"regiao\"]] = cont_regiao.get(r[\"regiao\"], 0) + 1\n",
    "\n",
    "cont_sexo, cont_regiao\n",
    "```\n",
    "\n",
    "</details>\n"
   ]
  },
  {
   "cell_type": "markdown",
   "id": "90c9edea",
   "metadata": {},
   "source": [
    "## Exercício 6 — Funções + *list comprehension*\n",
    "**Explicação.** Implemente a função `faixa_etaria(idade)` com os seguintes rótulos:\n",
    "`'0-4','5-11','12-17','18-29','30-39','40-49','50-59','60-69','70-79','80+'`.\n",
    "Aplique sobre a lista `idades` usando *list comprehension* e calcule um dicionário de contagem por faixa.\n"
   ]
  },
  {
   "cell_type": "code",
   "execution_count": 14,
   "id": "ea922df1",
   "metadata": {},
   "outputs": [],
   "source": [
    "# COMPLETE\n",
    "idades = [2, 5, 11, 18, 22, 35, 41, 58, 60, 79, 80, 93]\n",
    "\n"
   ]
  },
  {
   "cell_type": "markdown",
   "id": "9c930f17",
   "metadata": {},
   "source": [
    "<details><summary><strong>Resposta sugerida</strong></summary>\n",
    "\n",
    "```python\n",
    "def faixa_etaria(idade):\n",
    "    if idade <= 4: return '0-4'\n",
    "    elif idade <= 11: return '5-11'\n",
    "    elif idade <= 17: return '12-17'\n",
    "    elif idade <= 29: return '18-29'\n",
    "    elif idade <= 39: return '30-39'\n",
    "    elif idade <= 49: return '40-49'\n",
    "    elif idade <= 59: return '50-59'\n",
    "    elif idade <= 69: return '60-69'\n",
    "    elif idade <= 79: return '70-79'\n",
    "    else: return '80+'\n",
    "\n",
    "idades = [2, 5, 11, 18, 22, 35, 41, 58, 60, 79, 80, 93]\n",
    "faixas = [faixa_etaria(i) for i in idades]\n",
    "cont = {}\n",
    "for f in faixas:\n",
    "    cont[f] = cont.get(f, 0) + 1\n",
    "print(faixas)\n",
    "print(cont)\n",
    "```\n",
    "\n",
    "</details>\n"
   ]
  },
  {
   "cell_type": "markdown",
   "id": "8491f007",
   "metadata": {},
   "source": [
    "## Exercício 7 — Validação de registros com condicionais\n",
    "**Explicação.** Dado `registros` (lista de dicionários), crie uma função `valida(r)` que retorna `True` se o registro tiver\n",
    "chaves `age`, `sex` e `region` **não vazias**/`None`. Conte quantos são válidos e liste os inválidos.\n"
   ]
  },
  {
   "cell_type": "code",
   "execution_count": 16,
   "id": "3711f178",
   "metadata": {},
   "outputs": [],
   "source": [
    "# COMPLETE\n",
    "registros = [\n",
    "    {\"id\":1, \"age\":32, \"sex\":\"F\", \"region\":\"Nordeste\"},\n",
    "    {\"id\":2, \"age\":None, \"sex\":\"M\", \"region\":\"Sudeste\"},\n",
    "    {\"id\":3, \"age\":67, \"sex\":\"M\", \"region\":None},\n",
    "    {\"id\":4, \"age\":45, \"sex\":\"F\", \"region\":\"Sul\"},\n",
    "]\n",
    "\n"
   ]
  },
  {
   "cell_type": "markdown",
   "id": "08ac6725",
   "metadata": {},
   "source": [
    "<details><summary><strong>Resposta sugerida</strong></summary>\n",
    "\n",
    "```python\n",
    "def valida(r):\n",
    "    return (r.get(\"age\") is not None) and (r.get(\"sex\") not in [None, \"\"]) and (r.get(\"region\") not in [None, \"\"])\n",
    "\n",
    "validos = [r for r in registros if valida(r)]\n",
    "invalidos = [r for r in registros if not valida(r)]\n",
    "print(len(validos))\n",
    "print(invalidos)\n",
    "```\n",
    "\n",
    "</details>\n"
   ]
  },
  {
   "cell_type": "markdown",
   "id": "bac1e6c2",
   "metadata": {},
   "source": [
    "## Exercício 8 — Remover duplicatas preservando a ordem\n",
    "**Explicação.** Implemente `remove_duplicatas(seq)` que retorna uma nova lista **sem** elementos repetidos, **preservando a ordem** de primeira aparição.\n",
    "Exemplo: `[3,1,3,2,1] -> [3,1,2]`.\n"
   ]
  },
  {
   "cell_type": "code",
   "execution_count": 18,
   "id": "8b57c801",
   "metadata": {},
   "outputs": [],
   "source": [
    "# COMPLETE\n",
    "lista = [3,1,3,2,1,4,2,5,5]\n"
   ]
  },
  {
   "cell_type": "markdown",
   "id": "cb82c0e6",
   "metadata": {},
   "source": [
    "<details><summary><strong>Resposta sugerida</strong></summary>\n",
    "\n",
    "```python\n",
    "def remove_duplicatas(seq):\n",
    "    vistos = set()\n",
    "    out = []\n",
    "    for x in seq:\n",
    "        if x not in vistos:\n",
    "            vistos.add(x)\n",
    "            out.append(x)\n",
    "    return out\n",
    "\n",
    "print(remove_duplicatas([3,1,3,2,1,4,2,5,5]))\n",
    "```\n",
    "\n",
    "</details>\n"
   ]
  },
  {
   "cell_type": "markdown",
   "id": "69524bb7",
   "metadata": {},
   "source": [
    "## Exercício 9 — **Nível Olímpico**: janela deslizante de soma máxima\n",
    "**Explicação.** Dada uma lista de inteiros não negativos `casos` e um tamanho de janela `k` (`1 <= k <= len(casos)`), encontre:\n",
    "- a **maior soma** de qualquer sublista contígua de comprimento `k`, e\n",
    "- o **índice inicial** dessa janela ótima.\n",
    "\n",
    "**Requisito:** solução usando técnica de **janela deslizante** (não use `for` dentro de `for`).\n"
   ]
  },
  {
   "cell_type": "code",
   "execution_count": 20,
   "id": "d0c203a7",
   "metadata": {},
   "outputs": [],
   "source": [
    "# COMPLETE\n",
    "casos = [2,1,5,1,3,2,6,7,1,4,2,0,9]\n",
    "k = 3\n",
    "\n",
    "# max_soma_janela(casos, k) retorna (15, 5)"
   ]
  },
  {
   "cell_type": "markdown",
   "id": "b988ec97",
   "metadata": {},
   "source": [
    "<details><summary><strong>Resposta sugerida</strong></summary>\n",
    "\n",
    "```python\n",
    "def max_soma_janela(casos, k):\n",
    "    if k <= 0 or k > len(casos):\n",
    "        return None\n",
    "    soma = sum(casos[:k])\n",
    "    melhor_soma = soma\n",
    "    melhor_ini = 0\n",
    "    for i in range(k, len(casos)):\n",
    "        soma += casos[i] - casos[i-k]\n",
    "        if soma > melhor_soma:\n",
    "            melhor_soma = soma\n",
    "            melhor_ini = i - k + 1\n",
    "    return melhor_soma, melhor_ini\n",
    "\n",
    "print(max_soma_janela([2,1,5,1,3,2,6,7,1,4,2,0,9], 3))\n",
    "```\n",
    "**Ideia:** manter a soma corrente e atualizar ao mover a janela uma posição (subtrai o que sai, soma o que entra).\n",
    "</details>\n"
   ]
  },
  {
   "cell_type": "markdown",
   "id": "7fa598ab",
   "metadata": {},
   "source": [
    "## Exercício 10 — **Nível Olímpico**: número de sublistas com soma alvo\n",
    "**Explicação.** Dada una lista de inteiros (podem ser negativos) `valores` e um alvo `T`, conte **quantas sublistas contíguas** têm soma exatamente `T`.\n",
    "\n",
    "**Dica:** use **somas prefixo** e um dicionário `freq` que guarda quantas vezes cada soma acumulada já apareceu.  \n",
    "Se `pref` é a soma até o índice atual, o número de sublistas terminando aqui com soma `T` é `freq.get(pref - T, 0)`.\n"
   ]
  },
  {
   "cell_type": "code",
   "execution_count": 22,
   "id": "66fb540a",
   "metadata": {},
   "outputs": [],
   "source": [
    "# COMPLETE\n",
    "valores = [1, -1, 2, 3, -2, 2, 1]\n",
    "T = 3\n",
    "# conta_sublistas_soma(valores, T) retorna 5"
   ]
  },
  {
   "cell_type": "markdown",
   "id": "e5c82a0c",
   "metadata": {},
   "source": [
    "<details><summary><strong>Resposta sugerida</strong></summary>\n",
    "\n",
    "```python\n",
    "def conta_sublistas_soma(valores, T):\n",
    "    pref = 0\n",
    "    freq = {0: 1}\n",
    "    total = 0\n",
    "    for v in valores:\n",
    "        pref += v\n",
    "        total += freq.get(pref - T, 0)\n",
    "        freq[pref] = freq.get(pref, 0) + 1\n",
    "    return total\n",
    "\n",
    "print(conta_sublistas_soma([1, -1, 2, 3, -2, 2, 1], 3))\n",
    "```\n",
    "**Complexidade:** O(n). **Ideia:** cada soma alvo corresponde a `pref_atual - pref_antigo = T`. Contabilizamos quantos `pref_antigo` já ocorreram.\n",
    "</details>\n"
   ]
  }
 ],
 "metadata": {
  "kernelspec": {
   "display_name": "Python 3",
   "language": "python",
   "name": "python3"
  },
  "language_info": {
   "codemirror_mode": {
    "name": "ipython",
    "version": 3
   },
   "file_extension": ".py",
   "mimetype": "text/x-python",
   "name": "python",
   "nbconvert_exporter": "python",
   "pygments_lexer": "ipython3",
   "version": "3.12.4"
  }
 },
 "nbformat": 4,
 "nbformat_minor": 5
}
